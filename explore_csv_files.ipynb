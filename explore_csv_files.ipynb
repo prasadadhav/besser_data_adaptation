{
 "cells": [
  {
   "cell_type": "markdown",
   "id": "44ba0189",
   "metadata": {},
   "source": [
    "# In this document I will explore the CSV files that are the output from the TESTs of LLMs"
   ]
  },
  {
   "cell_type": "markdown",
   "id": "5d2d8c8c",
   "metadata": {},
   "source": [
    "## Load Libs"
   ]
  },
  {
   "cell_type": "code",
   "execution_count": 1,
   "id": "c84a3596",
   "metadata": {},
   "outputs": [],
   "source": [
    "import pandas as pd"
   ]
  },
  {
   "cell_type": "markdown",
   "id": "197a91b8",
   "metadata": {},
   "source": [
    "## Load data"
   ]
  },
  {
   "cell_type": "code",
   "execution_count": 2,
   "id": "cc617c4c",
   "metadata": {},
   "outputs": [
    {
     "name": "stdout",
     "output_type": "stream",
     "text": [
      "  language                             question  \\\n",
      "0       en            What does GDPR stand for?   \n",
      "1       en       What is the full form of GDPR?   \n",
      "2       en        When did GDPR start applying?   \n",
      "3       en      When did GDPR come into effect?   \n",
      "4       en  What is the main objective of GDPR?   \n",
      "\n",
      "                     original_question                           user_input  \\\n",
      "0            What does GDPR stand for?            What does GDPR stand for?   \n",
      "1            What does GDPR stand for?       What is the full form of GDPR?   \n",
      "2        When did GDPR start applying?        When did GDPR start applying?   \n",
      "3        When did GDPR start applying?      When did GDPR come into effect?   \n",
      "4  What is the main objective of GDPR?  What is the main objective of GDPR?   \n",
      "\n",
      "          variant  paraphrase_number  question_index source_language  \\\n",
      "0  original_q0_p0                  0               0              en   \n",
      "1  original_q0_p1                  1               0              en   \n",
      "2  original_q1_p0                  0               1              en   \n",
      "3  original_q1_p1                  1               1              en   \n",
      "4  original_q2_p0                  0               2              en   \n",
      "\n",
      "  target_language             strategy  ...  prediction  \\\n",
      "0              en  crosslingual_answer  ...         NaN   \n",
      "1              en  crosslingual_answer  ...         NaN   \n",
      "2              en  crosslingual_answer  ...         NaN   \n",
      "3              en  crosslingual_answer  ...         NaN   \n",
      "4              en  crosslingual_answer  ...         NaN   \n",
      "\n",
      "                                        ground_truth  \\\n",
      "0                 General Data Protection Regulation   \n",
      "1                 General Data Protection Regulation   \n",
      "2                                        25 May 2018   \n",
      "3                                        25 May 2018   \n",
      "4  To protect natural persons regarding personal ...   \n",
      "\n",
      "                                           reference  \\\n",
      "0                 General Data Protection Regulation   \n",
      "1                 General Data Protection Regulation   \n",
      "2                                        25 May 2018   \n",
      "3                                        25 May 2018   \n",
      "4  To protect natural persons regarding personal ...   \n",
      "\n",
      "                                   reference_context  \\\n",
      "0  ['Official title: Regulation (EU) 2016/679 of ...   \n",
      "1  ['Official title: Regulation (EU) 2016/679 of ...   \n",
      "2  ['Article 99(2): It shall apply from 25 May 20...   \n",
      "3  ['Article 99(2): It shall apply from 25 May 20...   \n",
      "4  ['Article 1(1): This Regulation lays down rule...   \n",
      "\n",
      "                                  retrieved_contexts context_precision  \\\n",
      "0  [\"personal data concer ning him or her . \\n(2)...          0.000000   \n",
      "1  [\"manner , in all issues which relat e to the ...          0.000000   \n",
      "2  [\"No 45/2001 applies. Regulation (EC) No 45/20...          0.583333   \n",
      "3  [\"Ar ticle 96 \\nRelationship with previously c...          0.500000   \n",
      "4  [\"(166)  In order to fulf il the objectives of...          0.000000   \n",
      "\n",
      "  context_recall  answer_relevancy  faithfulness  noise_sensitivity  \n",
      "0            1.0          1.000000      0.000000                NaN  \n",
      "1            1.0          1.000000      0.000000                NaN  \n",
      "2            1.0          0.978772      1.000000                NaN  \n",
      "3            1.0          0.976639      0.000000                NaN  \n",
      "4            1.0          0.979006      0.666667           0.333333  \n",
      "\n",
      "[5 rows x 22 columns]\n"
     ]
    }
   ],
   "source": [
    "df_raw_results = pd.read_csv('MLARagas_results/results/20250923_181049_multilingual_eval_gdpr_EN/raw.csv')\n",
    "print(df_raw_results.head())"
   ]
  },
  {
   "cell_type": "code",
   "execution_count": 3,
   "id": "e57e37b6",
   "metadata": {},
   "outputs": [
    {
     "name": "stdout",
     "output_type": "stream",
     "text": [
      "  language  total_rows_lang  unique_strategies_lang  avg_answer_relevancy  \\\n",
      "0       de               40                       1              0.955049   \n",
      "1       en               40                       1              0.955216   \n",
      "2       fr               40                       1              0.907272   \n",
      "\n",
      "   avg_context_precision  avg_context_recall  avg_faithfulness  \\\n",
      "0               0.031250               0.850          0.263409   \n",
      "1               0.458333               0.950          0.548859   \n",
      "2               0.133333               0.875          0.155417   \n",
      "\n",
      "   avg_noise_sensitivity  count_answer_relevancy  count_context_precision  \\\n",
      "0               0.235714                      40                       40   \n",
      "1               0.403343                      40                       40   \n",
      "2               0.458333                      40                       40   \n",
      "\n",
      "   count_context_recall  count_faithfulness  count_noise_sensitivity  \n",
      "0                    40                  40                        4  \n",
      "1                    40                  39                       18  \n",
      "2                    40                  40                        2  \n"
     ]
    }
   ],
   "source": [
    "df_agg_results = pd.read_csv(\"MLARagas_results/results/20250923_181049_multilingual_eval_gdpr_EN/agg.csv\")\n",
    "print(df_agg_results.head())"
   ]
  }
 ],
 "metadata": {
  "kernelspec": {
   "display_name": "Python 3",
   "language": "python",
   "name": "python3"
  },
  "language_info": {
   "codemirror_mode": {
    "name": "ipython",
    "version": 3
   },
   "file_extension": ".py",
   "mimetype": "text/x-python",
   "name": "python",
   "nbconvert_exporter": "python",
   "pygments_lexer": "ipython3",
   "version": "3.13.2"
  }
 },
 "nbformat": 4,
 "nbformat_minor": 5
}
