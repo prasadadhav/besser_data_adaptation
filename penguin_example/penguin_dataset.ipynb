{
 "cells": [
  {
   "cell_type": "markdown",
   "id": "eb9c4ea1",
   "metadata": {},
   "source": [
    "# Example populate the data"
   ]
  },
  {
   "cell_type": "markdown",
   "id": "f0eb8231",
   "metadata": {},
   "source": [
    "## Load libs"
   ]
  },
  {
   "cell_type": "code",
   "execution_count": 1,
   "id": "7dad1c21",
   "metadata": {},
   "outputs": [],
   "source": [
    "import sqlite3\n",
    "import pandas as pd\n",
    "from pathlib import Path"
   ]
  },
  {
   "cell_type": "markdown",
   "id": "ce746857",
   "metadata": {},
   "source": [
    "## Path"
   ]
  },
  {
   "cell_type": "code",
   "execution_count": 2,
   "id": "ae9c71cf",
   "metadata": {},
   "outputs": [],
   "source": [
    "DB_PATH  = \"penguin_dataset.db\"\n",
    "CSV_PATH = \"data/penguins_lter.csv\" "
   ]
  },
  {
   "cell_type": "markdown",
   "id": "2e1978ee",
   "metadata": {},
   "source": [
    "## Load data"
   ]
  },
  {
   "cell_type": "code",
   "execution_count": 3,
   "id": "11f75027",
   "metadata": {},
   "outputs": [],
   "source": [
    "df = pd.read_csv(CSV_PATH)"
   ]
  },
  {
   "cell_type": "code",
   "execution_count": 4,
   "id": "4a5a6ce3",
   "metadata": {},
   "outputs": [],
   "source": [
    "# Normalize column names (lowercase, underscores)\n",
    "df.columns = [c.strip().lower().replace(\" \", \"_\").replace(\"(\", \"\").replace(\")\", \"\") for c in df.columns]"
   ]
  },
  {
   "cell_type": "markdown",
   "id": "278e4351",
   "metadata": {},
   "source": [
    "## Helper functions to populate the DB"
   ]
  },
  {
   "cell_type": "code",
   "execution_count": 5,
   "id": "f5e191f0",
   "metadata": {},
   "outputs": [],
   "source": [
    "# Helper: first available column from a list of possible names\n",
    "def pick(df, *names, default=None):\n",
    "    for n in names:\n",
    "        if n in df.columns:\n",
    "            return df[n]\n",
    "    return pd.Series([default]*len(df))"
   ]
  },
  {
   "cell_type": "code",
   "execution_count": 6,
   "id": "9a2f89ce",
   "metadata": {},
   "outputs": [],
   "source": [
    "# Build a normalized view with the fields we need\n",
    "norm = pd.DataFrame({\n",
    "    \"species_name\":        pick(df, \"species\", \"species_name\"),\n",
    "    \"island\":              pick(df, \"island\"),\n",
    "    \"region\":              pick(df, \"region\", default=\"Palmer Archipelago\"),\n",
    "    \"study_number\":        pick(df, \"year\", \"studyname\", \"study_number\", default=\"NA\"),\n",
    "    \"individual_id\":       pick(df, \"individual_id\", \"individualid\"),\n",
    "    # numeric measures (support both bill_ and culmen_ names)\n",
    "    \"culmen_len\":          pd.to_numeric(pick(df, \"bill_length_mm\", \"culmen_length_mm\", \"culmen_len\"), errors=\"coerce\"),\n",
    "    \"culmen_depth\":        pd.to_numeric(pick(df, \"bill_depth_mm\", \"culmen_depth_mm\", \"culmen_depth\"), errors=\"coerce\"),\n",
    "    \"flipper_len\":         pd.to_numeric(pick(df, \"flipper_length_mm\", \"flipper_len\"), errors=\"coerce\"),\n",
    "    \"body_mass_g\":         pd.to_numeric(pick(df, \"body_mass_g\", \"body_mass\"), errors=\"coerce\"),\n",
    "    \"sex\":                 pick(df, \"sex\"),\n",
    "    \"sample_number\":       pick(df, \"sample_number\", \"smaple_number\"),\n",
    "    \"comments\":            pick(df, \"comments\", default=None),\n",
    "    # if egg/stage exists:\n",
    "    \"egg\":                 pick(df, \"egg\", \"clutch_completion\", default=None),\n",
    "})"
   ]
  },
  {
   "cell_type": "code",
   "execution_count": 7,
   "id": "48747dd9",
   "metadata": {},
   "outputs": [
    {
     "data": {
      "text/plain": [
       "<sqlite3.Cursor at 0x14e7ff15e40>"
      ]
     },
     "execution_count": 7,
     "metadata": {},
     "output_type": "execute_result"
    }
   ],
   "source": [
    "# --- 2) Open DB ---\n",
    "conn = sqlite3.connect(DB_PATH)\n",
    "conn.execute(\"PRAGMA foreign_keys = ON;\")"
   ]
  },
  {
   "cell_type": "code",
   "execution_count": 8,
   "id": "41a0cdfe",
   "metadata": {},
   "outputs": [],
   "source": [
    "# Small util helpers\n",
    "def one(conn, q, params=()):\n",
    "    cur = conn.execute(q, params); row = cur.fetchone(); cur.close()\n",
    "    return row[0] if row else None\n",
    "\n",
    "def upsert_study(conn, study_number, region, island):\n",
    "    sid = one(conn, \"SELECT id FROM study WHERE study_number=? AND region=? AND island=?;\",\n",
    "              (str(study_number), str(region), str(island)))\n",
    "    if sid:\n",
    "        return sid\n",
    "    conn.execute(\"INSERT INTO study (study_number, region, island) VALUES (?,?,?);\",\n",
    "                 (str(study_number), str(region), str(island)))\n",
    "    return one(conn, \"SELECT id FROM study WHERE study_number=? AND region=? AND island=?;\",\n",
    "               (str(study_number), str(region), str(island)))\n",
    "\n",
    "def upsert_species(conn, species_name, study_number):\n",
    "    spid = one(conn, \"SELECT id FROM species WHERE species_name=? AND study_number=?;\",\n",
    "               (str(species_name), int(study_number)))\n",
    "    if spid:\n",
    "        return spid\n",
    "    conn.execute(\"INSERT INTO species (species_name, study_id) VALUES (?,?);\",\n",
    "                 (str(species_name), int(study_number)))\n",
    "    return one(conn, \"SELECT id FROM species WHERE species_name=? AND study_number=?;\",\n",
    "               (str(species_name), int(study_number)))\n",
    "\n",
    "def insert_penguin(conn, row, species_id):\n",
    "    # Adjust the column names in the INSERT to match your generated table exactly.\n",
    "    # If your generator used different names (e.g., \"smaple_number\"), change below accordingly.\n",
    "    conn.execute(\"\"\"\n",
    "        INSERT INTO penguin\n",
    "        (species_id, individual_id, sex, culmen_len, culmen_depth, flipper_len, body_mass_g, comments, egg, sample_number)\n",
    "        VALUES (?,?,?,?,?,?,?,?,?,?);\n",
    "    \"\"\", (\n",
    "        int(species_id),\n",
    "        (None if pd.isna(row[\"individual_id\"]) else str(row[\"individual_id\"])),\n",
    "        (None if pd.isna(row[\"sex\"])          else str(row[\"sex\"])),\n",
    "        (None if pd.isna(row[\"culmen_len\"])   else float(row[\"culmen_len\"])),\n",
    "        (None if pd.isna(row[\"culmen_depth\"]) else float(row[\"culmen_depth\"])),\n",
    "        (None if pd.isna(row[\"flipper_len\"])  else float(row[\"flipper_len\"])),\n",
    "        (None if pd.isna(row[\"body_mass_g\"])  else float(row[\"body_mass_g\"])),\n",
    "        (None if pd.isna(row[\"comments\"])     else str(row[\"comments\"])),\n",
    "        (None if pd.isna(row[\"egg\"])          else str(row[\"egg\"])),\n",
    "        (None if pd.isna(row[\"sample_number\"])else str(row[\"sample_number\"])),\n",
    "    ))\n"
   ]
  },
  {
   "cell_type": "code",
   "execution_count": null,
   "id": "0338bb1a",
   "metadata": {},
   "outputs": [
    {
     "data": {
      "text/plain": [
       "Index(['species_name', 'island', 'region', 'study_number', 'individual_id',\n",
       "       'culmen_len', 'culmen_depth', 'flipper_len', 'body_mass_g', 'sex',\n",
       "       'sample_number', 'comments', 'egg'],\n",
       "      dtype='object')"
      ]
     },
     "execution_count": 10,
     "metadata": {},
     "output_type": "execute_result"
    },
    {
     "ename": "",
     "evalue": "",
     "output_type": "error",
     "traceback": [
      "\u001b[1;31mThe Kernel crashed while executing code in the current cell or a previous cell. \n",
      "\u001b[1;31mPlease review the code in the cell(s) to identify a possible cause of the failure. \n",
      "\u001b[1;31mClick <a href='https://aka.ms/vscodeJupyterKernelCrash'>here</a> for more info. \n",
      "\u001b[1;31mView Jupyter <a href='command:jupyter.viewOutput'>log</a> for further details."
     ]
    }
   ],
   "source": [
    "norm.columns"
   ]
  },
  {
   "cell_type": "code",
   "execution_count": 9,
   "id": "96d8bd4c",
   "metadata": {},
   "outputs": [
    {
     "ename": "OperationalError",
     "evalue": "no such column: study_number",
     "output_type": "error",
     "traceback": [
      "\u001b[1;31m---------------------------------------------------------------------------\u001b[0m",
      "\u001b[1;31mOperationalError\u001b[0m                          Traceback (most recent call last)",
      "Cell \u001b[1;32mIn[9], line 5\u001b[0m\n\u001b[0;32m      3\u001b[0m \u001b[38;5;28;01mfor\u001b[39;00m _, r \u001b[38;5;129;01min\u001b[39;00m norm\u001b[38;5;241m.\u001b[39miterrows():\n\u001b[0;32m      4\u001b[0m     sid \u001b[38;5;241m=\u001b[39m upsert_study(conn, r[\u001b[38;5;124m\"\u001b[39m\u001b[38;5;124mstudy_number\u001b[39m\u001b[38;5;124m\"\u001b[39m], r[\u001b[38;5;124m\"\u001b[39m\u001b[38;5;124mregion\u001b[39m\u001b[38;5;124m\"\u001b[39m], r[\u001b[38;5;124m\"\u001b[39m\u001b[38;5;124misland\u001b[39m\u001b[38;5;124m\"\u001b[39m])\n\u001b[1;32m----> 5\u001b[0m     spid \u001b[38;5;241m=\u001b[39m \u001b[43mupsert_species\u001b[49m\u001b[43m(\u001b[49m\u001b[43mconn\u001b[49m\u001b[43m,\u001b[49m\u001b[43m \u001b[49m\u001b[43mr\u001b[49m\u001b[43m[\u001b[49m\u001b[38;5;124;43m\"\u001b[39;49m\u001b[38;5;124;43mspecies_name\u001b[39;49m\u001b[38;5;124;43m\"\u001b[39;49m\u001b[43m]\u001b[49m\u001b[43m,\u001b[49m\u001b[43m \u001b[49m\u001b[43msid\u001b[49m\u001b[43m)\u001b[49m\n\u001b[0;32m      6\u001b[0m     insert_penguin(conn, r, spid)\n\u001b[0;32m      7\u001b[0m     inserted \u001b[38;5;241m+\u001b[39m\u001b[38;5;241m=\u001b[39m \u001b[38;5;241m1\u001b[39m\n",
      "Cell \u001b[1;32mIn[8], line 17\u001b[0m, in \u001b[0;36mupsert_species\u001b[1;34m(conn, species_name, study_number)\u001b[0m\n\u001b[0;32m     16\u001b[0m \u001b[38;5;28;01mdef\u001b[39;00m\u001b[38;5;250m \u001b[39m\u001b[38;5;21mupsert_species\u001b[39m(conn, species_name, study_number):\n\u001b[1;32m---> 17\u001b[0m     spid \u001b[38;5;241m=\u001b[39m \u001b[43mone\u001b[49m\u001b[43m(\u001b[49m\u001b[43mconn\u001b[49m\u001b[43m,\u001b[49m\u001b[43m \u001b[49m\u001b[38;5;124;43m\"\u001b[39;49m\u001b[38;5;124;43mSELECT id FROM species WHERE species_name=? AND study_number=?;\u001b[39;49m\u001b[38;5;124;43m\"\u001b[39;49m\u001b[43m,\u001b[49m\n\u001b[0;32m     18\u001b[0m \u001b[43m               \u001b[49m\u001b[43m(\u001b[49m\u001b[38;5;28;43mstr\u001b[39;49m\u001b[43m(\u001b[49m\u001b[43mspecies_name\u001b[49m\u001b[43m)\u001b[49m\u001b[43m,\u001b[49m\u001b[43m \u001b[49m\u001b[38;5;28;43mint\u001b[39;49m\u001b[43m(\u001b[49m\u001b[43mstudy_number\u001b[49m\u001b[43m)\u001b[49m\u001b[43m)\u001b[49m\u001b[43m)\u001b[49m\n\u001b[0;32m     19\u001b[0m     \u001b[38;5;28;01mif\u001b[39;00m spid:\n\u001b[0;32m     20\u001b[0m         \u001b[38;5;28;01mreturn\u001b[39;00m spid\n",
      "Cell \u001b[1;32mIn[8], line 3\u001b[0m, in \u001b[0;36mone\u001b[1;34m(conn, q, params)\u001b[0m\n\u001b[0;32m      2\u001b[0m \u001b[38;5;28;01mdef\u001b[39;00m\u001b[38;5;250m \u001b[39m\u001b[38;5;21mone\u001b[39m(conn, q, params\u001b[38;5;241m=\u001b[39m()):\n\u001b[1;32m----> 3\u001b[0m     cur \u001b[38;5;241m=\u001b[39m \u001b[43mconn\u001b[49m\u001b[38;5;241;43m.\u001b[39;49m\u001b[43mexecute\u001b[49m\u001b[43m(\u001b[49m\u001b[43mq\u001b[49m\u001b[43m,\u001b[49m\u001b[43m \u001b[49m\u001b[43mparams\u001b[49m\u001b[43m)\u001b[49m; row \u001b[38;5;241m=\u001b[39m cur\u001b[38;5;241m.\u001b[39mfetchone(); cur\u001b[38;5;241m.\u001b[39mclose()\n\u001b[0;32m      4\u001b[0m     \u001b[38;5;28;01mreturn\u001b[39;00m row[\u001b[38;5;241m0\u001b[39m] \u001b[38;5;28;01mif\u001b[39;00m row \u001b[38;5;28;01melse\u001b[39;00m \u001b[38;5;28;01mNone\u001b[39;00m\n",
      "\u001b[1;31mOperationalError\u001b[0m: no such column: study_number"
     ]
    }
   ],
   "source": [
    "inserted = 0\n",
    "with conn:\n",
    "    for _, r in norm.iterrows():\n",
    "        sid = upsert_study(conn, r[\"study_number\"], r[\"region\"], r[\"island\"])\n",
    "        spid = upsert_species(conn, r[\"species_name\"], sid)\n",
    "        insert_penguin(conn, r, spid)\n",
    "        inserted += 1\n",
    "\n",
    "print(f\"Inserted penguins: {inserted}\")\n",
    "# quick sanity query\n",
    "total_penguins = one(conn, \"SELECT COUNT(*) FROM penguin;\")\n",
    "print(\"Total penguins in DB now:\", total_penguins)\n",
    "conn.close()"
   ]
  }
 ],
 "metadata": {
  "kernelspec": {
   "display_name": "Python 3",
   "language": "python",
   "name": "python3"
  },
  "language_info": {
   "codemirror_mode": {
    "name": "ipython",
    "version": 3
   },
   "file_extension": ".py",
   "mimetype": "text/x-python",
   "name": "python",
   "nbconvert_exporter": "python",
   "pygments_lexer": "ipython3",
   "version": "3.13.2"
  }
 },
 "nbformat": 4,
 "nbformat_minor": 5
}
